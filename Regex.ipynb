{
 "cells": [
  {
   "cell_type": "code",
   "execution_count": 1,
   "metadata": {},
   "outputs": [],
   "source": [
    "### Exploring NLTK  (Natural Language Toolkit)\n",
    "'''\n",
    "Author : Amruta Abhyankar\n",
    "Date : 2021/04/27\n",
    "\n",
    "'''"
   ]
  },
  {
   "cell_type": "code",
   "execution_count": 2,
   "metadata": {},
   "outputs": [],
   "source": [
    "import nltk"
   ]
  },
  {
   "cell_type": "code",
   "execution_count": 3,
   "metadata": {},
   "outputs": [],
   "source": [
    "import re    # Regular Expression library "
   ]
  },
  {
   "cell_type": "code",
   "execution_count": 4,
   "metadata": {},
   "outputs": [],
   "source": [
    "alice = nltk.corpus.gutenberg.words(\"carroll-alice.txt\")"
   ]
  },
  {
   "cell_type": "code",
   "execution_count": 5,
   "metadata": {},
   "outputs": [
    {
     "data": {
      "text/plain": [
       "{'new', 'newspapers'}"
      ]
     },
     "execution_count": 5,
     "metadata": {},
     "output_type": "execute_result"
    }
   ],
   "source": [
    "set([word for word in alice if re.search(\"^new\", word)])"
   ]
  },
  {
   "cell_type": "code",
   "execution_count": 6,
   "metadata": {},
   "outputs": [
    {
     "data": {
      "text/plain": [
       "{'cannot', 'dinner', 'fanned', 'manner', 'tunnel'}"
      ]
     },
     "execution_count": 6,
     "metadata": {},
     "output_type": "execute_result"
    }
   ],
   "source": [
    "set([word for word in alice if re.search(\"^..nn..$\", word)])"
   ]
  },
  {
   "cell_type": "code",
   "execution_count": 7,
   "metadata": {},
   "outputs": [
    {
     "data": {
      "text/plain": [
       "{'Beautiful',\n",
       " 'barrowful',\n",
       " 'beautiful',\n",
       " 'delightful',\n",
       " 'doubtful',\n",
       " 'dreadful',\n",
       " 'graceful',\n",
       " 'hopeful',\n",
       " 'mournful',\n",
       " 'ootiful',\n",
       " 'respectful',\n",
       " 'sorrowful',\n",
       " 'truthful',\n",
       " 'useful',\n",
       " 'wonderful'}"
      ]
     },
     "execution_count": 7,
     "metadata": {},
     "output_type": "execute_result"
    }
   ],
   "source": [
    "set([word for word in alice if re.search(\"ful$\", word)])"
   ]
  },
  {
   "cell_type": "code",
   "execution_count": 8,
   "metadata": {},
   "outputs": [
    {
     "data": {
      "text/plain": [
       "{'cat', 'hat', 'rat'}"
      ]
     },
     "execution_count": 8,
     "metadata": {},
     "output_type": "execute_result"
    }
   ],
   "source": [
    "set([word for word in alice if re.search(\"^[chr]at$\", word)])"
   ]
  },
  {
   "cell_type": "code",
   "execution_count": 9,
   "metadata": {},
   "outputs": [
    {
     "data": {
      "text/plain": [
       "{'Ann',\n",
       " 'Dinn',\n",
       " 'Pennyworth',\n",
       " 'annoy',\n",
       " 'annoyed',\n",
       " 'beginning',\n",
       " 'cannot',\n",
       " 'cunning',\n",
       " 'dinn',\n",
       " 'dinner',\n",
       " 'fanned',\n",
       " 'fanning',\n",
       " 'funny',\n",
       " 'grinned',\n",
       " 'grinning',\n",
       " 'manner',\n",
       " 'manners',\n",
       " 'planning',\n",
       " 'running',\n",
       " 'tunnel'}"
      ]
     },
     "execution_count": 9,
     "metadata": {},
     "output_type": "execute_result"
    }
   ],
   "source": [
    "set([word for word in alice if re.search(\"^.*nn.*$\", word)])"
   ]
  },
  {
   "cell_type": "code",
   "execution_count": 10,
   "metadata": {},
   "outputs": [
    {
     "data": {
      "text/plain": [
       "{'accidentally', 'actually', 'occasionally'}"
      ]
     },
     "execution_count": 10,
     "metadata": {},
     "output_type": "execute_result"
    }
   ],
   "source": [
    "set([word for word in alice if re.search(\"^[aeiou]c.+y$\", word)])"
   ]
  },
  {
   "cell_type": "code",
   "execution_count": null,
   "metadata": {},
   "outputs": [],
   "source": []
  }
 ],
 "metadata": {
  "kernelspec": {
   "display_name": "Python 3",
   "language": "python",
   "name": "python3"
  },
  "language_info": {
   "codemirror_mode": {
    "name": "ipython",
    "version": 3
   },
   "file_extension": ".py",
   "mimetype": "text/x-python",
   "name": "python",
   "nbconvert_exporter": "python",
   "pygments_lexer": "ipython3",
   "version": "3.8.5"
  }
 },
 "nbformat": 4,
 "nbformat_minor": 4
}
