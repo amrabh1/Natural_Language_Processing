{
 "cells": [
  {
   "cell_type": "code",
   "execution_count": 1,
   "metadata": {},
   "outputs": [],
   "source": [
    "import nltk"
   ]
  },
  {
   "cell_type": "code",
   "execution_count": 2,
   "metadata": {},
   "outputs": [],
   "source": [
    "text = \" I think it might rain today!\""
   ]
  },
  {
   "cell_type": "code",
   "execution_count": 3,
   "metadata": {},
   "outputs": [],
   "source": [
    "tokens = nltk.word_tokenize(text)"
   ]
  },
  {
   "cell_type": "code",
   "execution_count": 4,
   "metadata": {},
   "outputs": [
    {
     "data": {
      "text/plain": [
       "['I', 'think', 'it', 'might', 'rain', 'today', '!']"
      ]
     },
     "execution_count": 4,
     "metadata": {},
     "output_type": "execute_result"
    }
   ],
   "source": [
    "tokens"
   ]
  },
  {
   "cell_type": "code",
   "execution_count": 5,
   "metadata": {},
   "outputs": [],
   "source": [
    "bigrams = nltk.bigrams(tokens)"
   ]
  },
  {
   "cell_type": "code",
   "execution_count": 7,
   "metadata": {},
   "outputs": [
    {
     "name": "stdout",
     "output_type": "stream",
     "text": [
      "('I', 'think')\n",
      "('think', 'it')\n",
      "('it', 'might')\n",
      "('might', 'rain')\n",
      "('rain', 'today')\n",
      "('today', '!')\n"
     ]
    }
   ],
   "source": [
    "for items in bigrams:\n",
    "    print(items)"
   ]
  },
  {
   "cell_type": "code",
   "execution_count": 12,
   "metadata": {},
   "outputs": [],
   "source": [
    "trigrams = nltk.trigrams(tokens)"
   ]
  },
  {
   "cell_type": "code",
   "execution_count": 13,
   "metadata": {},
   "outputs": [
    {
     "name": "stdout",
     "output_type": "stream",
     "text": [
      "('I', 'think', 'it')\n",
      "('think', 'it', 'might')\n",
      "('it', 'might', 'rain')\n",
      "('might', 'rain', 'today')\n",
      "('rain', 'today', '!')\n"
     ]
    }
   ],
   "source": [
    "for items in trigrams:\n",
    "    print(items)"
   ]
  },
  {
   "cell_type": "code",
   "execution_count": 14,
   "metadata": {},
   "outputs": [],
   "source": [
    "from nltk.util import ngrams\n"
   ]
  },
  {
   "cell_type": "code",
   "execution_count": 15,
   "metadata": {},
   "outputs": [],
   "source": [
    "text2 = \" I think it will be a nice weather tomorrow and I might go the beach!\""
   ]
  },
  {
   "cell_type": "code",
   "execution_count": 16,
   "metadata": {},
   "outputs": [],
   "source": [
    "tokens = nltk.word_tokenize(text2)"
   ]
  },
  {
   "cell_type": "code",
   "execution_count": 17,
   "metadata": {},
   "outputs": [
    {
     "data": {
      "text/plain": [
       "['I',\n",
       " 'think',\n",
       " 'it',\n",
       " 'will',\n",
       " 'be',\n",
       " 'a',\n",
       " 'nice',\n",
       " 'weather',\n",
       " 'tomorrow',\n",
       " 'and',\n",
       " 'I',\n",
       " 'might',\n",
       " 'go',\n",
       " 'the',\n",
       " 'beach',\n",
       " '!']"
      ]
     },
     "execution_count": 17,
     "metadata": {},
     "output_type": "execute_result"
    }
   ],
   "source": [
    "tokens"
   ]
  },
  {
   "cell_type": "code",
   "execution_count": 19,
   "metadata": {},
   "outputs": [],
   "source": [
    "bigrams = ngrams(tokens,2)"
   ]
  },
  {
   "cell_type": "code",
   "execution_count": 21,
   "metadata": {},
   "outputs": [
    {
     "name": "stdout",
     "output_type": "stream",
     "text": [
      "('I', 'think')\n",
      "('think', 'it')\n",
      "('it', 'will')\n",
      "('will', 'be')\n",
      "('be', 'a')\n",
      "('a', 'nice')\n",
      "('nice', 'weather')\n",
      "('weather', 'tomorrow')\n",
      "('tomorrow', 'and')\n",
      "('and', 'I')\n",
      "('I', 'might')\n",
      "('might', 'go')\n",
      "('go', 'the')\n",
      "('the', 'beach')\n",
      "('beach', '!')\n"
     ]
    }
   ],
   "source": [
    "for i in bigrams:\n",
    "    print(i)"
   ]
  },
  {
   "cell_type": "code",
   "execution_count": 22,
   "metadata": {},
   "outputs": [],
   "source": [
    "fourgrams = ngrams(tokens, 4)"
   ]
  },
  {
   "cell_type": "code",
   "execution_count": 23,
   "metadata": {},
   "outputs": [
    {
     "name": "stdout",
     "output_type": "stream",
     "text": [
      "('I', 'think', 'it', 'will')\n",
      "('think', 'it', 'will', 'be')\n",
      "('it', 'will', 'be', 'a')\n",
      "('will', 'be', 'a', 'nice')\n",
      "('be', 'a', 'nice', 'weather')\n",
      "('a', 'nice', 'weather', 'tomorrow')\n",
      "('nice', 'weather', 'tomorrow', 'and')\n",
      "('weather', 'tomorrow', 'and', 'I')\n",
      "('tomorrow', 'and', 'I', 'might')\n",
      "('and', 'I', 'might', 'go')\n",
      "('I', 'might', 'go', 'the')\n",
      "('might', 'go', 'the', 'beach')\n",
      "('go', 'the', 'beach', '!')\n"
     ]
    }
   ],
   "source": [
    "for i in fourgrams:\n",
    "    print(i)"
   ]
  },
  {
   "cell_type": "code",
   "execution_count": 24,
   "metadata": {},
   "outputs": [],
   "source": [
    "def n_grams(text,n):\n",
    "    tokens = nltk.word_tokenize(text)\n",
    "    return ngrams(tokens,n)"
   ]
  },
  {
   "cell_type": "code",
   "execution_count": 25,
   "metadata": {},
   "outputs": [],
   "source": [
    "text3 = \" This is a very long and complicated text, I wanted to test how the n_grams function is working. I hope you likethis example\""
   ]
  },
  {
   "cell_type": "code",
   "execution_count": 27,
   "metadata": {},
   "outputs": [],
   "source": [
    "ngrams = n_grams(text3, 5)"
   ]
  },
  {
   "cell_type": "code",
   "execution_count": 28,
   "metadata": {},
   "outputs": [
    {
     "name": "stdout",
     "output_type": "stream",
     "text": [
      "('This', 'is', 'a', 'very', 'long')\n",
      "('is', 'a', 'very', 'long', 'and')\n",
      "('a', 'very', 'long', 'and', 'complicated')\n",
      "('very', 'long', 'and', 'complicated', 'text')\n",
      "('long', 'and', 'complicated', 'text', ',')\n",
      "('and', 'complicated', 'text', ',', 'I')\n",
      "('complicated', 'text', ',', 'I', 'wanted')\n",
      "('text', ',', 'I', 'wanted', 'to')\n",
      "(',', 'I', 'wanted', 'to', 'test')\n",
      "('I', 'wanted', 'to', 'test', 'how')\n",
      "('wanted', 'to', 'test', 'how', 'the')\n",
      "('to', 'test', 'how', 'the', 'n_grams')\n",
      "('test', 'how', 'the', 'n_grams', 'function')\n",
      "('how', 'the', 'n_grams', 'function', 'is')\n",
      "('the', 'n_grams', 'function', 'is', 'working')\n",
      "('n_grams', 'function', 'is', 'working', '.')\n",
      "('function', 'is', 'working', '.', 'I')\n",
      "('is', 'working', '.', 'I', 'hope')\n",
      "('working', '.', 'I', 'hope', 'you')\n",
      "('.', 'I', 'hope', 'you', 'likethis')\n",
      "('I', 'hope', 'you', 'likethis', 'example')\n"
     ]
    }
   ],
   "source": [
    "for i in ngrams:\n",
    "    print(i)"
   ]
  },
  {
   "cell_type": "code",
   "execution_count": null,
   "metadata": {},
   "outputs": [],
   "source": []
  }
 ],
 "metadata": {
  "kernelspec": {
   "display_name": "Python 3",
   "language": "python",
   "name": "python3"
  },
  "language_info": {
   "codemirror_mode": {
    "name": "ipython",
    "version": 3
   },
   "file_extension": ".py",
   "mimetype": "text/x-python",
   "name": "python",
   "nbconvert_exporter": "python",
   "pygments_lexer": "ipython3",
   "version": "3.8.5"
  }
 },
 "nbformat": 4,
 "nbformat_minor": 4
}
